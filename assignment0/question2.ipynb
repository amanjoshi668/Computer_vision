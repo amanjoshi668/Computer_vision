{
 "cells": [
  {
   "cell_type": "code",
   "execution_count": 1,
   "metadata": {},
   "outputs": [],
   "source": [
    "import numpy as np\n",
    "import cv2 as cv\n",
    "import os"
   ]
  },
  {
   "cell_type": "code",
   "execution_count": 6,
   "metadata": {},
   "outputs": [],
   "source": [
    "def camera(screen_folder = \"screen\"):\n",
    "    cap = cv.VideoCapture(0)\n",
    "    cnt = 0\n",
    "    try:\n",
    "        while True:\n",
    "            ret, frame = cap.read()\n",
    "            frame = cv.flip(frame, 1)\n",
    "            cv.imshow('frame', frame[::])\n",
    "            key = cv.waitKey(1)\n",
    "            if (key == ord('c')):\n",
    "                cnt = cnt+1\n",
    "                cv.imwrite(os.path.join(screen_folder , str(cnt) + \".jpg\"), frame)\n",
    "            elif (key == ord('q')):\n",
    "                break\n",
    "        cap.release()\n",
    "        cv.destroyAllWindows()\n",
    "    except:\n",
    "        cap.release()\n",
    "        cv.destroyAllWindows()"
   ]
  },
  {
   "cell_type": "code",
   "execution_count": 8,
   "metadata": {},
   "outputs": [
    {
     "name": "stdout",
     "output_type": "stream",
     "text": [
      "Press \"q\" for exiting\n",
      "Press \"c\" for taking snapshot\n"
     ]
    }
   ],
   "source": [
    "print('Press \"q\" for exiting')\n",
    "print('Press \"c\" for taking snapshot')\n",
    "camera(\"screen\")"
   ]
  },
  {
   "cell_type": "code",
   "execution_count": null,
   "metadata": {},
   "outputs": [],
   "source": []
  }
 ],
 "metadata": {
  "kernelspec": {
   "display_name": "Python 3",
   "language": "python",
   "name": "python3"
  },
  "language_info": {
   "codemirror_mode": {
    "name": "ipython",
    "version": 3
   },
   "file_extension": ".py",
   "mimetype": "text/x-python",
   "name": "python",
   "nbconvert_exporter": "python",
   "pygments_lexer": "ipython3",
   "version": "3.6.5"
  }
 },
 "nbformat": 4,
 "nbformat_minor": 2
}
