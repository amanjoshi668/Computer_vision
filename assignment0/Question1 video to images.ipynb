{
 "cells": [
  {
   "cell_type": "code",
   "execution_count": 9,
   "metadata": {},
   "outputs": [],
   "source": [
    "import cv2 as cv\n",
    "import numpy as np\n",
    "import os"
   ]
  },
  {
   "cell_type": "code",
   "execution_count": 30,
   "metadata": {},
   "outputs": [],
   "source": [
    "def convert_video_to_image(video_name, folder_path):\n",
    "    cap = cv.VideoCapture(video_name)\n",
    "    cnt = 1\n",
    "    try:\n",
    "        while(cap.isOpened()):\n",
    "            ret, frame = cap.read()\n",
    "            cv.imshow('frame', frame)\n",
    "            key = cv.waitKey(1)\n",
    "            if (key == ord('q')):\n",
    "                break\n",
    "            cv.imwrite(os.path.join(folder_path, 'frame'+str(cnt)+'.jpg'), frame)\n",
    "            cnt += 1\n",
    "        cap.release()\n",
    "        cv.destroyAllWindows()\n",
    "    except:\n",
    "        cap.release()\n",
    "        cv.destroyAllWindows()"
   ]
  },
  {
   "cell_type": "code",
   "execution_count": 31,
   "metadata": {},
   "outputs": [],
   "source": [
    "convert_video_to_image('cute.mp4', 'result')"
   ]
  },
  {
   "cell_type": "code",
   "execution_count": 32,
   "metadata": {
    "scrolled": false
   },
   "outputs": [],
   "source": [
    "def convert_images_to_video(image_folder, video_path):\n",
    "    only_files = [f for f in os.listdir(image_folder) if os.path.isfile(os.path.join(image_folder, f))]\n",
    "    fourcc = cv.VideoWriter_fourcc(*'XVID')\n",
    "    out = cv.VideoWriter(video_path,fourcc, 20, (1280,720))\n",
    "    for f in only_files:\n",
    "        frame = cv.imread(os.path.join(image_folder,f))\n",
    "        out.write(frame)\n",
    "    out.release()\n",
    "    cv.destroyAllWindows()"
   ]
  },
  {
   "cell_type": "code",
   "execution_count": 29,
   "metadata": {},
   "outputs": [
    {
     "name": "stdout",
     "output_type": "stream",
     "text": [
      "['frame124.jpg', 'frame18.jpg', 'frame12.jpg', 'frame65.jpg', 'frame119.jpg', 'frame31.jpg', 'frame72.jpg', 'frame6.jpg', 'frame48.jpg', 'frame120.jpg', 'frame102.jpg', 'frame25.jpg', 'frame21.jpg', 'frame101.jpg', 'frame92.jpg', 'frame78.jpg', 'frame89.jpg', 'frame90.jpg', 'frame113.jpg', 'frame29.jpg', 'frame95.jpg', 'frame127.jpg', 'frame17.jpg', 'frame63.jpg', 'frame58.jpg', 'frame4.jpg', 'frame11.jpg', 'frame15.jpg', 'frame36.jpg', 'frame28.jpg', 'frame81.jpg', 'frame61.jpg', 'frame24.jpg', 'frame10.jpg', 'frame114.jpg', 'frame109.jpg', 'frame40.jpg', 'frame94.jpg', 'frame32.jpg', 'frame5.jpg', 'frame84.jpg', 'frame132.jpg', 'frame53.jpg', 'frame68.jpg', 'frame71.jpg', 'frame56.jpg', 'frame44.jpg', 'frame96.jpg', 'frame67.jpg', 'frame33.jpg', 'frame106.jpg', 'frame77.jpg', 'frame54.jpg', 'frame42.jpg', 'frame14.jpg', 'frame130.jpg', 'frame82.jpg', 'frame99.jpg', 'frame26.jpg', 'frame35.jpg', 'frame79.jpg', 'frame100.jpg', 'frame74.jpg', 'frame49.jpg', 'frame45.jpg', 'frame73.jpg', 'frame115.jpg', 'frame34.jpg', 'frame69.jpg', 'frame16.jpg', 'frame128.jpg', 'frame64.jpg', 'frame52.jpg', 'frame46.jpg', 'frame62.jpg', 'frame3.jpg', 'frame60.jpg', 'frame7.jpg', 'frame104.jpg', 'frame91.jpg', 'frame111.jpg', 'frame123.jpg', 'frame47.jpg', 'frame126.jpg', 'frame23.jpg', 'frame129.jpg', 'frame1.jpg', 'frame37.jpg', 'frame105.jpg', 'frame43.jpg', 'frame98.jpg', 'frame83.jpg', 'frame110.jpg', 'frame121.jpg', 'frame116.jpg', 'frame122.jpg', 'frame85.jpg', 'frame50.jpg', 'frame9.jpg', 'frame27.jpg', 'frame88.jpg', 'frame41.jpg', 'frame87.jpg', 'frame30.jpg', 'frame125.jpg', 'frame13.jpg', 'frame20.jpg', 'frame112.jpg', 'frame93.jpg', 'frame39.jpg', 'frame2.jpg', 'frame66.jpg', 'frame117.jpg', 'frame103.jpg', 'frame75.jpg', 'frame51.jpg', 'frame59.jpg', 'frame107.jpg', 'frame97.jpg', 'frame55.jpg', 'frame70.jpg', 'frame80.jpg', 'frame57.jpg', 'frame108.jpg', 'frame22.jpg', 'frame131.jpg', 'frame118.jpg', 'frame86.jpg', 'frame8.jpg', 'frame38.jpg', 'frame76.jpg', 'frame19.jpg']\n"
     ]
    }
   ],
   "source": [
    "convert_images_to_video('result', 'result.mp4')"
   ]
  },
  {
   "cell_type": "code",
   "execution_count": null,
   "metadata": {},
   "outputs": [],
   "source": [
    "cap = cv.VideoCapture(0)\n",
    "cnt = 0\n",
    "while True:\n",
    "    ret, frame = cap.read()\n",
    "    cv.imshow('frame', frame)\n",
    "    key = cv.waitKey(1)\n",
    "    if (key == ord('c')):\n",
    "        cnt = cnt+1\n",
    "        cv.imwrite(os.path.join(\"screen\" , str(cnt) + \".jpg\"), frame)\n",
    "    elif (key == ord('q')):\n",
    "        break\n",
    "cap.release()\n",
    "cv.destroyAllWindows()"
   ]
  },
  {
   "cell_type": "code",
   "execution_count": null,
   "metadata": {},
   "outputs": [],
   "source": [
    "ls screen/\n"
   ]
  },
  {
   "cell_type": "code",
   "execution_count": null,
   "metadata": {},
   "outputs": [],
   "source": []
  }
 ],
 "metadata": {
  "kernelspec": {
   "display_name": "Python 3",
   "language": "python",
   "name": "python3"
  },
  "language_info": {
   "codemirror_mode": {
    "name": "ipython",
    "version": 3
   },
   "file_extension": ".py",
   "mimetype": "text/x-python",
   "name": "python",
   "nbconvert_exporter": "python",
   "pygments_lexer": "ipython3",
   "version": "3.6.5"
  }
 },
 "nbformat": 4,
 "nbformat_minor": 2
}
