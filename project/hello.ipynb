{
 "cells": [
  {
   "cell_type": "markdown",
   "metadata": {},
   "source": [
    "<h1 align=\"center\"> Geometric Methods in ML - ENSAE 2016/2017 </h1>\n",
    "<h2 align=\"center\"> Kernels approximation with Random Features </h2>\n",
    "<h4 align=\"right\"> <i>Author: Hicham Janati </i></h4>\n",
    "\n",
    "<hr> \n",
    "\n",
    "<h2 align=\"center\"><font color=\"blue\"><i> I - Bochner theorem approximation    </i></font></h2>\n",
    "\n",
    "Kernel approximation using Fourier random features relies on two properties: \n",
    "\n",
    "<div style=\"  \n",
    "    padding: 10px;\n",
    "    border: 5px solid gray;\n",
    "    margin: 0; \"> \n",
    "    If <br>\n",
    "1- The Kernel K is shift-invariant: $K(\\textbf{x}, \\textbf{y}) = K(\\textbf{z})$ where $ \\textbf{x} - \\textbf{y} = \\textbf{z} $ <br>\n",
    "2- The function $K(\\textbf{z})$ is positive definite on $\\mathbb{R}^d$\n",
    "</div>\n",
    "Then $$K \\text{ is the Fourier transform of a finite-borel measure p on } \\mathbb{R}^d $$ \n",
    "\n",
    "Thus, the Fourier transform can be written as an expectation w.r.t to the sampling distribution p leading to a Monte Carlo estimator. The algorithm major steps are: \n",
    "\n",
    "<h3 align=\"center\"><font color=\"red\">Random features Algorithm (Bochner): </font></h3> <br>\n",
    "\n",
    "<div style=\"  \n",
    "    padding: 10px;\n",
    "    border: 5px solid gray;\n",
    "    margin: 0; \"> \n",
    "- Compute the Fourier transform of K: $$\\mathcal{F}_K(w) = \\frac{1}{(2\\pi)^{\\frac{d}{2}}} \\int_{\\mathbb{R}^d} K(\\textbf{z}) e^{i\\langle w,z \\rangle} d\\textbf{z} $$\n",
    "- Sample $D$ $i.i.d$ vectors w from: $$p(\\textbf{w}) = \\frac{1}{(2\\pi)^{\\frac{d}{2}}} \\mathcal{F}_K(w) $$\n",
    "- Sample $D$  $i.i.d$ vectors b from the uniform distribution.\n",
    "- Compute the new features $$Z(X) = \\sqrt{\\frac{2}{D}}\\left[ cos(X.w_1 + u_1), \\dots, cos(X.w_D + u_D) \\right] $$\n",
    "- Compute the Kernel estimates: $$ K(\\textbf{x},\\textbf{y}) = \\langle Z(\\textbf{x}), Z(\\textbf{y}) \\rangle $$ </div>"
   ]
  },
  {
   "cell_type": "code",
   "execution_count": 1,
   "metadata": {
    "ExecuteTime": {
     "end_time": "2019-03-19T10:04:19.029242Z",
     "start_time": "2019-03-19T10:04:12.711686Z"
    }
   },
   "outputs": [],
   "source": [
    "import numpy as np # Thinly−wrapped numpy\n",
    "import pandas as pd\n",
    "from matplotlib import cm \n",
    "import matplotlib as mpl\n",
    "%matplotlib inline \n",
    "from matplotlib import pyplot as plt \n",
    "data = '../data/'"
   ]
  },
  {
   "cell_type": "markdown",
   "metadata": {},
   "source": [
    "# The Random Fourier Features class\n",
    "### Sampling distribution p(w):\n",
    "\n",
    "This class concerns RF approximation of:\n",
    "- RBF Kernel: $$K(z) = e^{-\\gamma ||z^2||_2 } $$\n",
    "For which the sampling distribution p is gaussian too : $$ w \\sim \\mathcal{N}\\left(0,\\sqrt{2\\gamma}I_d\\right) $$\n",
    "- Laplacian Kernel: $$K(z) = e^{-\\gamma ||z||_1 } $$ \n",
    "Here the sampling distribution is Cauchy (multinomial, uncorrelated components) $(\\gamma)$: $$ p(w) = \\frac{\\gamma^2}{\\pi\\gamma\\left(w^2 + \\gamma^2\\right)} $$\n",
    "\n",
    "<font color=\"red\" > The math is provided in Supplementary Materiel of our <a source=\"http://nbviewer.jupyter.org/github/hichamjanati/srf/tree/master/review-srf.pdf\"> paper </a></font>"
   ]
  },
  {
   "cell_type": "markdown",
   "metadata": {},
   "source": [
    "<hr>\n",
    "### Python class\n",
    "We implement a python class **RFF** that takes as input arguments:\n",
    "- Kernel parameters \n",
    "- Number of MonteCarlo Samples D\n",
    "\n",
    "    .The **fit** method generates  the random samples\n",
    "    \n",
    "    .The **transform** method computes the new features Z\n",
    "    \n",
    "    .The **compute_kernel** method computes the approxiamted Kernel gram-matrix\n",
    "    "
   ]
  },
  {
   "cell_type": "code",
   "execution_count": 2,
   "metadata": {
    "ExecuteTime": {
     "end_time": "2019-03-19T10:04:31.244814Z",
     "start_time": "2019-03-19T10:04:19.032144Z"
    }
   },
   "outputs": [],
   "source": [
    "from sklearn.base import BaseEstimator\n",
    "from sklearn.exceptions import NotFittedError\n",
    "from scipy.stats import cauchy, laplace\n",
    "from sklearn.metrics.pairwise import rbf_kernel, laplacian_kernel\n",
    "\n",
    "class RFF(BaseEstimator):\n",
    "    def __init__(self, gamma = 1, D = 50, metric = \"rbf\"):\n",
    "        self.gamma = gamma\n",
    "        self.metric = metric\n",
    "        #Dimensionality D (number of MonteCarlo samples)\n",
    "        self.D = D\n",
    "        self.fitted = False\n",
    "        \n",
    "    def fit(self, X, y=None):\n",
    "        \"\"\" Generates MonteCarlo random samples \"\"\"\n",
    "        d = X.shape[1]\n",
    "        #Generate D iid samples from p(w) \n",
    "        if self.metric == \"rbf\":\n",
    "            self.w = np.sqrt(2*self.gamma)*np.random.normal(size=(self.D,d))\n",
    "        elif self.metric == \"laplace\":\n",
    "            self.w = cauchy.rvs(scale = self.gamma, size=(self.D,d))\n",
    "        \n",
    "        #Generate D iid samples from Uniform(0,2*pi) \n",
    "        self.u = 2*np.pi*np.random.rand(self.D)\n",
    "        self.fitted = True\n",
    "        return self\n",
    "    \n",
    "    def transform(self,X):\n",
    "        \"\"\" Transforms the data X (n_samples, n_features) to the new map space Z(X) (n_samples, n_components)\"\"\"\n",
    "        if not self.fitted:\n",
    "            raise NotFittedError(\"RBF_MonteCarlo must be fitted beform computing the feature map Z\")\n",
    "        #Compute feature map Z(x):\n",
    "        Z = np.sqrt(2/self.D)*np.cos((X.dot(self.w.T) + self.u[np.newaxis,:]))\n",
    "        return Z\n",
    "    \n",
    "    def compute_kernel(self, X):\n",
    "        \"\"\" Computes the approximated kernel matrix K \"\"\"\n",
    "        if not self.fitted:\n",
    "            raise NotFittedError(\"RBF_MonteCarlo must be fitted beform computing the kernel matrix\")\n",
    "        Z = self.transform(X)\n",
    "        K = Z.dot(Z.T)\n",
    "        return K\n",
    "    "
   ]
  },
  {
   "cell_type": "markdown",
   "metadata": {},
   "source": [
    "## Simulation \n",
    "We evaluate the kernel approximation quality by computing the MSE between the gram matrices: \n",
    "$$ MSE(K,K') = Mean((K-K')^2) $$ \n",
    "\n",
    "We simulate random data and compute both RBF and Gaussian kernels: "
   ]
  },
  {
   "cell_type": "code",
   "execution_count": 3,
   "metadata": {
    "ExecuteTime": {
     "end_time": "2019-03-19T10:04:37.113553Z",
     "start_time": "2019-03-19T10:04:31.250741Z"
    }
   },
   "outputs": [
    {
     "name": "stdout",
     "output_type": "stream",
     "text": [
      "(1000, 1000)\n",
      "(1000, 200)\n"
     ]
    }
   ],
   "source": [
    "#size of data\n",
    "N_SAMPLES, DIM = 1000, 200 \n",
    "X = np.random.randn(N_SAMPLES,DIM)\n",
    "\n",
    "gamma = 2\n",
    "#Number of monte carlo samples D\n",
    "Ds = np.arange(1,5000,200)\n",
    "K_rbf, K_laplace = rbf_kernel(X, gamma=gamma), laplacian_kernel(X,gamma=gamma)\n",
    "errors_rbf, errors_laplace = [] , []\n",
    "print(K_rbf.shape)\n",
    "print(X.shape)\n",
    "for D in Ds:\n",
    "    GAUSS = RFF(gamma=gamma, D=D, metric=\"rbf\")\n",
    "    GAUSS.fit(X)\n",
    "    K_rbf_a = GAUSS.compute_kernel(X)\n",
    "\n",
    "    LAPLACE = RFF(gamma=gamma, D=D, metric=\"laplace\")\n",
    "    LAPLACE.fit(X)\n",
    "    K_laplace_a = LAPLACE.compute_kernel(X)\n",
    "\n",
    "    errors_rbf.append(((K_rbf_a-K_rbf)**2).mean())\n",
    "    errors_laplace.append(((K_laplace_a-K_laplace)**2).mean())\n",
    "\n",
    "errors_rbf, errors_laplace = np.array(errors_rbf), np.array(errors_laplace)"
   ]
  },
  {
   "cell_type": "code",
   "execution_count": 4,
   "metadata": {
    "ExecuteTime": {
     "end_time": "2019-03-19T10:04:38.204178Z",
     "start_time": "2019-03-19T10:04:37.118709Z"
    }
   },
   "outputs": [
    {
     "data": {
      "image/png": "[encoded data removed]",
      "text/plain": [
       "<Figure size 1440x288 with 2 Axes>"
      ]
     },
     "metadata": {
      "needs_background": "light"
     },
     "output_type": "display_data"
    }
   ],
   "source": [
    "fig, axes = plt.subplots(nrows=1, ncols=2, figsize=(20,4))\n",
    "for ax,data,title in zip(axes,[errors_laplace,errors_rbf],['RBF Kernel','Laplacian Kernel']):\n",
    "    ax.plot(Ds, data)\n",
    "    ax.set_ylabel(\"MSE\")\n",
    "    ax.set_xlabel(\"Number of MC samples D\")\n",
    "    ax.set_yscale(\"log\")\n",
    "    ax.set_title(title)\n",
    "plt.show()"
   ]
  },
  {
   "cell_type": "markdown",
   "metadata": {},
   "source": [
    "# In the Next Notebook: \n",
    "- Experiments on real data (Gisette, USPS) \n",
    "- Computation time & MSE in function of the number of data samples and the dimension (n,d)\n",
    "\n",
    " <a href=\"RFF-II.ipynb\"> Go to the next notebook </a></font>"
   ]
  },
  {
   "cell_type": "code",
   "execution_count": null,
   "metadata": {
    "collapsed": true
   },
   "outputs": [],
   "source": []
  }
 ],
 "metadata": {
  "anaconda-cloud": {},
  "kernelspec": {
   "display_name": "Python 3",
   "language": "python",
   "name": "python3"
  },
  "language_info": {
   "codemirror_mode": {
    "name": "ipython",
    "version": 3
   },
   "file_extension": ".py",
   "mimetype": "text/x-python",
   "name": "python",
   "nbconvert_exporter": "python",
   "pygments_lexer": "ipython3",
   "version": "3.6.8"
  },
  "latex_envs": {
   "LaTeX_envs_menu_present": true,
   "autoclose": false,
   "autocomplete": true,
   "bibliofile": "biblio.bib",
   "cite_by": "apalike",
   "current_citInitial": 1,
   "eqLabelWithNumbers": true,
   "eqNumInitial": 1,
   "hotkeys": {
    "equation": "Ctrl-E",
    "itemize": "Ctrl-I"
   },
   "labels_anchors": false,
   "latex_user_defs": false,
   "report_style_numbering": false,
   "user_envs_cfg": false
  }
 },
 "nbformat": 4,
 "nbformat_minor": 1
}
